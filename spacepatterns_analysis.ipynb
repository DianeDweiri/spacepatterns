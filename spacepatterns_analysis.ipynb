import pandas as pd
import matplotlib.pyplot as plt
import seaborn as sns

sns.set_theme(style="darkgrid")

url = 'https://raw.githubusercontent.com/DianeDweiri/spacepatterns/main/exoplanet_data.csv'
df = pd.read_csv(url)

print(df[['pl_name', 'pl_bmassj', 'pl_rade', 'st_teff', 'st_mass', 'st_rad']].head(10))

plt.figure(figsize=(10,6))
sns.scatterplot(x='pl_rade', y='pl_bmassj', data=df)
plt.title('Relationship Between Planet Mass and Radius')
plt.xlabel('Planet Radius (Relative to Earth)')
plt.ylabel('Planet Mass (Relative to Jupiter)')
plt.show()
